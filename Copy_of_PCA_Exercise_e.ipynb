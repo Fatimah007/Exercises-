{
  "nbformat": 4,
  "nbformat_minor": 0,
  "metadata": {
    "colab": {
      "provenance": [],
      "include_colab_link": true
    },
    "kernelspec": {
      "name": "python3",
      "display_name": "Python 3"
    },
    "language_info": {
      "name": "python"
    }
  },
  "cells": [
    {
      "cell_type": "markdown",
      "metadata": {
        "id": "view-in-github",
        "colab_type": "text"
      },
      "source": [
        "<a href=\"https://colab.research.google.com/github/Fatimah007/Exercises-/blob/main/Copy_of_PCA_Exercise_e.ipynb\" target=\"_parent\"><img src=\"https://colab.research.google.com/assets/colab-badge.svg\" alt=\"Open In Colab\"/></a>"
      ]
    },
    {
      "cell_type": "markdown",
      "source": [
        "# **PCA**\n",
        "\n",
        "\n",
        "\n",
        "\n",
        "\n"
      ],
      "metadata": {
        "id": "d_VMK5_TYu5S"
      }
    },
    {
      "cell_type": "markdown",
      "source": [
        "#Step 1 : import libraries"
      ],
      "metadata": {
        "id": "rm1w6Pl2vrr4"
      }
    },
    {
      "cell_type": "code",
      "execution_count": null,
      "metadata": {
        "id": "KifnD8RtYlFv"
      },
      "outputs": [],
      "source": [
        "import pandas as pd\n",
        "import numpy as np\n",
        "from sklearn.model_selection import train_test_split\n",
        "# Here we are using inbuilt dataset of scikit learn\n",
        "from sklearn.datasets import load_breast_cancer\n",
        "\n",
        "import matplotlib.pyplot as plt\n",
        "import seaborn as sns\n",
        "from sklearn.linear_model import LogisticRegression\n",
        "\n"
      ]
    },
    {
      "cell_type": "markdown",
      "source": [
        "#Step 2: Importing the data set\n",
        "\n",
        "###Import the dataset and distributing the dataset into X and y components for data analysis.\n",
        "\n",
        "\n"
      ],
      "metadata": {
        "id": "YIQqz2T5vy_M"
      }
    },
    {
      "cell_type": "code",
      "source": [
        "# instantiating\n",
        "cancer = load_breast_cancer(as_frame=True)\n",
        "# creating dataframe\n",
        "df = cancer.frame"
      ],
      "metadata": {
        "id": "rydT0aSdZFBv"
      },
      "execution_count": null,
      "outputs": []
    },
    {
      "cell_type": "code",
      "source": [
        "# checking shape\n",
        "print('Original Dataframe shape :',df.shape)"
      ],
      "metadata": {
        "id": "cJj0XQHIkMA1",
        "outputId": "8045f122-456b-480d-afd2-5c1d937e3912",
        "colab": {
          "base_uri": "https://localhost:8080/"
        }
      },
      "execution_count": null,
      "outputs": [
        {
          "output_type": "stream",
          "name": "stdout",
          "text": [
            "Original Dataframe shape : (569, 31)\n"
          ]
        }
      ]
    },
    {
      "cell_type": "code",
      "source": [
        "# Input features\n",
        "X = df[cancer['feature_names']]\n",
        "print('Inputs Dataframe shape   :', X.shape)\n"
      ],
      "metadata": {
        "id": "BPxaW7GakT8E",
        "outputId": "2e77fffb-5256-4675-8108-bf9418935729",
        "colab": {
          "base_uri": "https://localhost:8080/"
        }
      },
      "execution_count": null,
      "outputs": [
        {
          "output_type": "stream",
          "name": "stdout",
          "text": [
            "Inputs Dataframe shape   : (569, 30)\n"
          ]
        }
      ]
    },
    {
      "cell_type": "code",
      "source": [
        "y= df['target']\n",
        "print('Target Dataframe shape   :', y.shape)"
      ],
      "metadata": {
        "id": "5Cr534mPkgbm",
        "outputId": "16332367-061c-4c7f-f92f-ab6e8ef3f30b",
        "colab": {
          "base_uri": "https://localhost:8080/"
        }
      },
      "execution_count": null,
      "outputs": [
        {
          "output_type": "stream",
          "name": "stdout",
          "text": [
            "Target Dataframe shape   : (569,)\n"
          ]
        }
      ]
    },
    {
      "cell_type": "markdown",
      "source": [
        "#Step 3 : Step 3: Splitting the dataset into the Training set and Test set\n",
        "\n",
        "\n",
        "\n"
      ],
      "metadata": {
        "id": "iu8551hZZKB1"
      }
    },
    {
      "cell_type": "code",
      "source": [
        "X_train, X_test, y_train, y_test = train_test_split(X, y, test_size=0.20, random_state=42)"
      ],
      "metadata": {
        "id": "KUbALv2xZKp8"
      },
      "execution_count": null,
      "outputs": []
    },
    {
      "cell_type": "markdown",
      "source": [
        "#Step 4: Feature Scaling\n",
        "###Doing the pre-processing part on training and testing set such as fitting the Standard scale.\n",
        "\n",
        "\n",
        "\n",
        "\n"
      ],
      "metadata": {
        "id": "SgMGNFJwbOwb"
      }
    },
    {
      "cell_type": "code",
      "source": [
        "# Mean\n",
        "X_mean = X.mean()\n"
      ],
      "metadata": {
        "id": "IAXZ4SKBbTaF"
      },
      "execution_count": null,
      "outputs": []
    },
    {
      "cell_type": "code",
      "source": [
        "# Standard deviation\n",
        "X_std = X.std()\n"
      ],
      "metadata": {
        "id": "9xczPNPJjgrd"
      },
      "execution_count": null,
      "outputs": []
    },
    {
      "cell_type": "code",
      "source": [
        "# Standardization\n",
        "Z = (X - X_mean) / X_std"
      ],
      "metadata": {
        "id": "z6K_64iKjiri"
      },
      "execution_count": null,
      "outputs": []
    },
    {
      "cell_type": "code",
      "source": [
        "c = Z.cov()"
      ],
      "metadata": {
        "id": "WWGh3jTdlpHU"
      },
      "execution_count": null,
      "outputs": []
    },
    {
      "cell_type": "markdown",
      "source": [
        "Eigenvectors & Eigenvalues"
      ],
      "metadata": {
        "id": "u-XVBYUDlUkK"
      }
    },
    {
      "cell_type": "code",
      "source": [
        "eigenvalues, eigenvectors = np.linalg.eig(c)\n",
        "print('Eigen values:\\n', eigenvalues)\n",
        "print('Eigen values Shape:', eigenvalues.shape)\n",
        "print('Eigen Vector Shape:', eigenvectors.shape)"
      ],
      "metadata": {
        "collapsed": true,
        "id": "pCSnup8wlTMu",
        "outputId": "9ac7b917-cbb0-475b-92fb-b189fdfb8944",
        "colab": {
          "base_uri": "https://localhost:8080/"
        }
      },
      "execution_count": null,
      "outputs": [
        {
          "output_type": "stream",
          "name": "stdout",
          "text": [
            "Eigen values:\n",
            " [1.32816077e+01 5.69135461e+00 2.81794898e+00 1.98064047e+00\n",
            " 1.64873055e+00 1.20735661e+00 6.75220114e-01 4.76617140e-01\n",
            " 4.16894812e-01 3.50693457e-01 2.93915696e-01 2.61161370e-01\n",
            " 2.41357496e-01 1.57009724e-01 9.41349650e-02 7.98628010e-02\n",
            " 5.93990378e-02 5.26187835e-02 4.94775918e-02 1.33044823e-04\n",
            " 7.48803097e-04 1.58933787e-03 6.90046388e-03 8.17763986e-03\n",
            " 1.54812714e-02 1.80550070e-02 2.43408378e-02 2.74394025e-02\n",
            " 3.11594025e-02 2.99728939e-02]\n",
            "Eigen values Shape: (30,)\n",
            "Eigen Vector Shape: (30, 30)\n"
          ]
        }
      ]
    },
    {
      "cell_type": "code",
      "source": [
        "# Index the eigenvalues in descending order\n",
        "idx = eigenvalues.argsort()[::-1]\n",
        "\n",
        "# Sort the eigenvalues in descending order\n",
        "eigenvalues = eigenvalues[idx]\n",
        "\n",
        "# sort the corresponding eigenvectors accordingly\n",
        "eigenvectors = eigenvectors[:,idx]\n"
      ],
      "metadata": {
        "id": "y6CM_9sslN75"
      },
      "execution_count": null,
      "outputs": []
    },
    {
      "cell_type": "code",
      "source": [
        "explained_var = np.cumsum(eigenvalues) / np.sum(eigenvalues)\n",
        "explained_var"
      ],
      "metadata": {
        "id": "dwwRNmSNlCST",
        "outputId": "f3060a6d-f775-4590-fbc3-15ab57f6fff0",
        "colab": {
          "base_uri": "https://localhost:8080/"
        }
      },
      "execution_count": null,
      "outputs": [
        {
          "output_type": "execute_result",
          "data": {
            "text/plain": [
              "array([0.44272026, 0.63243208, 0.72636371, 0.79238506, 0.84734274,\n",
              "       0.88758796, 0.9100953 , 0.92598254, 0.93987903, 0.95156881,\n",
              "       0.961366  , 0.97007138, 0.97811663, 0.98335029, 0.98648812,\n",
              "       0.98915022, 0.99113018, 0.99288414, 0.9945334 , 0.99557204,\n",
              "       0.99657114, 0.99748579, 0.99829715, 0.99889898, 0.99941502,\n",
              "       0.99968761, 0.99991763, 0.99997061, 0.99999557, 1.        ])"
            ]
          },
          "metadata": {},
          "execution_count": 21
        }
      ]
    },
    {
      "cell_type": "code",
      "source": [
        "#Determine the Number of Principal Components\n",
        "n_components = np.argmax(explained_var >= 0.50) + 1\n",
        "n_components"
      ],
      "metadata": {
        "id": "gyFOBXRgkuQ0",
        "outputId": "23c5a9ae-b159-4033-b8f9-e60c7dc755b8",
        "colab": {
          "base_uri": "https://localhost:8080/"
        }
      },
      "execution_count": null,
      "outputs": [
        {
          "output_type": "execute_result",
          "data": {
            "text/plain": [
              "2"
            ]
          },
          "metadata": {},
          "execution_count": 22
        }
      ]
    },
    {
      "cell_type": "markdown",
      "source": [
        "#Step 5: Applying PCA function\n",
        "###Applying the PCA function into the training and testing set for analysis.\n",
        "\n",
        "\n"
      ],
      "metadata": {
        "id": "JRKujGH2bmQQ"
      }
    },
    {
      "cell_type": "code",
      "source": [
        "# Importing PCA\n",
        "from sklearn.decomposition import PCA\n",
        "\n",
        "# Let's say, components = 2\n",
        "pca = PCA(n_components=2)\n",
        "pca.fit(Z)\n",
        "x_pca = pca.transform(Z)\n",
        "\n",
        "# Create the dataframe\n",
        "df_pca1 = pd.DataFrame(x_pca,\n",
        "                       columns=['PC{}'.\n",
        "                       format(i+1)\n",
        "                        for i in range(n_components)])\n",
        "print(df_pca1)"
      ],
      "metadata": {
        "id": "H8kF4bozbt2o",
        "outputId": "cfd2ac4f-965d-412f-cbea-14ca7002cb3b",
        "colab": {
          "base_uri": "https://localhost:8080/"
        }
      },
      "execution_count": null,
      "outputs": [
        {
          "output_type": "stream",
          "name": "stdout",
          "text": [
            "           PC1        PC2\n",
            "0     9.184755   1.946870\n",
            "1     2.385703  -3.764859\n",
            "2     5.728855  -1.074229\n",
            "3     7.116691  10.266556\n",
            "4     3.931842  -1.946359\n",
            "..         ...        ...\n",
            "564   6.433655  -3.573673\n",
            "565   3.790048  -3.580897\n",
            "566   1.255075  -1.900624\n",
            "567  10.365673   1.670540\n",
            "568  -5.470430  -0.670047\n",
            "\n",
            "[569 rows x 2 columns]\n"
          ]
        }
      ]
    },
    {
      "cell_type": "markdown",
      "source": [
        "#Step 6: Fitting Logistic Regression To the training set\n",
        "\n",
        "\n"
      ],
      "metadata": {
        "id": "mEe5WUw5bzKQ"
      }
    },
    {
      "cell_type": "code",
      "source": [
        "logreg = LogisticRegression()\n",
        "logreg.fit(X_train, y_train)"
      ],
      "metadata": {
        "id": "GigvLsiBbyen",
        "outputId": "ed2d4286-4346-4289-96dc-b140446160d4",
        "colab": {
          "base_uri": "https://localhost:8080/",
          "height": 218
        }
      },
      "execution_count": null,
      "outputs": [
        {
          "output_type": "stream",
          "name": "stderr",
          "text": [
            "/usr/local/lib/python3.10/dist-packages/sklearn/linear_model/_logistic.py:460: ConvergenceWarning: lbfgs failed to converge (status=1):\n",
            "STOP: TOTAL NO. of ITERATIONS REACHED LIMIT.\n",
            "\n",
            "Increase the number of iterations (max_iter) or scale the data as shown in:\n",
            "    https://scikit-learn.org/stable/modules/preprocessing.html\n",
            "Please also refer to the documentation for alternative solver options:\n",
            "    https://scikit-learn.org/stable/modules/linear_model.html#logistic-regression\n",
            "  n_iter_i = _check_optimize_result(\n"
          ]
        },
        {
          "output_type": "execute_result",
          "data": {
            "text/plain": [
              "LogisticRegression()"
            ],
            "text/html": [
              "<style>#sk-container-id-1 {color: black;}#sk-container-id-1 pre{padding: 0;}#sk-container-id-1 div.sk-toggleable {background-color: white;}#sk-container-id-1 label.sk-toggleable__label {cursor: pointer;display: block;width: 100%;margin-bottom: 0;padding: 0.3em;box-sizing: border-box;text-align: center;}#sk-container-id-1 label.sk-toggleable__label-arrow:before {content: \"▸\";float: left;margin-right: 0.25em;color: #696969;}#sk-container-id-1 label.sk-toggleable__label-arrow:hover:before {color: black;}#sk-container-id-1 div.sk-estimator:hover label.sk-toggleable__label-arrow:before {color: black;}#sk-container-id-1 div.sk-toggleable__content {max-height: 0;max-width: 0;overflow: hidden;text-align: left;background-color: #f0f8ff;}#sk-container-id-1 div.sk-toggleable__content pre {margin: 0.2em;color: black;border-radius: 0.25em;background-color: #f0f8ff;}#sk-container-id-1 input.sk-toggleable__control:checked~div.sk-toggleable__content {max-height: 200px;max-width: 100%;overflow: auto;}#sk-container-id-1 input.sk-toggleable__control:checked~label.sk-toggleable__label-arrow:before {content: \"▾\";}#sk-container-id-1 div.sk-estimator input.sk-toggleable__control:checked~label.sk-toggleable__label {background-color: #d4ebff;}#sk-container-id-1 div.sk-label input.sk-toggleable__control:checked~label.sk-toggleable__label {background-color: #d4ebff;}#sk-container-id-1 input.sk-hidden--visually {border: 0;clip: rect(1px 1px 1px 1px);clip: rect(1px, 1px, 1px, 1px);height: 1px;margin: -1px;overflow: hidden;padding: 0;position: absolute;width: 1px;}#sk-container-id-1 div.sk-estimator {font-family: monospace;background-color: #f0f8ff;border: 1px dotted black;border-radius: 0.25em;box-sizing: border-box;margin-bottom: 0.5em;}#sk-container-id-1 div.sk-estimator:hover {background-color: #d4ebff;}#sk-container-id-1 div.sk-parallel-item::after {content: \"\";width: 100%;border-bottom: 1px solid gray;flex-grow: 1;}#sk-container-id-1 div.sk-label:hover label.sk-toggleable__label {background-color: #d4ebff;}#sk-container-id-1 div.sk-serial::before {content: \"\";position: absolute;border-left: 1px solid gray;box-sizing: border-box;top: 0;bottom: 0;left: 50%;z-index: 0;}#sk-container-id-1 div.sk-serial {display: flex;flex-direction: column;align-items: center;background-color: white;padding-right: 0.2em;padding-left: 0.2em;position: relative;}#sk-container-id-1 div.sk-item {position: relative;z-index: 1;}#sk-container-id-1 div.sk-parallel {display: flex;align-items: stretch;justify-content: center;background-color: white;position: relative;}#sk-container-id-1 div.sk-item::before, #sk-container-id-1 div.sk-parallel-item::before {content: \"\";position: absolute;border-left: 1px solid gray;box-sizing: border-box;top: 0;bottom: 0;left: 50%;z-index: -1;}#sk-container-id-1 div.sk-parallel-item {display: flex;flex-direction: column;z-index: 1;position: relative;background-color: white;}#sk-container-id-1 div.sk-parallel-item:first-child::after {align-self: flex-end;width: 50%;}#sk-container-id-1 div.sk-parallel-item:last-child::after {align-self: flex-start;width: 50%;}#sk-container-id-1 div.sk-parallel-item:only-child::after {width: 0;}#sk-container-id-1 div.sk-dashed-wrapped {border: 1px dashed gray;margin: 0 0.4em 0.5em 0.4em;box-sizing: border-box;padding-bottom: 0.4em;background-color: white;}#sk-container-id-1 div.sk-label label {font-family: monospace;font-weight: bold;display: inline-block;line-height: 1.2em;}#sk-container-id-1 div.sk-label-container {text-align: center;}#sk-container-id-1 div.sk-container {/* jupyter's `normalize.less` sets `[hidden] { display: none; }` but bootstrap.min.css set `[hidden] { display: none !important; }` so we also need the `!important` here to be able to override the default hidden behavior on the sphinx rendered scikit-learn.org. See: https://github.com/scikit-learn/scikit-learn/issues/21755 */display: inline-block !important;position: relative;}#sk-container-id-1 div.sk-text-repr-fallback {display: none;}</style><div id=\"sk-container-id-1\" class=\"sk-top-container\"><div class=\"sk-text-repr-fallback\"><pre>LogisticRegression()</pre><b>In a Jupyter environment, please rerun this cell to show the HTML representation or trust the notebook. <br />On GitHub, the HTML representation is unable to render, please try loading this page with nbviewer.org.</b></div><div class=\"sk-container\" hidden><div class=\"sk-item\"><div class=\"sk-estimator sk-toggleable\"><input class=\"sk-toggleable__control sk-hidden--visually\" id=\"sk-estimator-id-1\" type=\"checkbox\" checked><label for=\"sk-estimator-id-1\" class=\"sk-toggleable__label sk-toggleable__label-arrow\">LogisticRegression</label><div class=\"sk-toggleable__content\"><pre>LogisticRegression()</pre></div></div></div></div></div>"
            ]
          },
          "metadata": {},
          "execution_count": 28
        }
      ]
    },
    {
      "cell_type": "markdown",
      "source": [
        "#Step 7: Predicting the test set result\n",
        "\n",
        "\n"
      ],
      "metadata": {
        "id": "5Rwr3eVZV_5e"
      }
    },
    {
      "cell_type": "code",
      "source": [
        "y_pred = logreg.predict(X_test)\n",
        "print('Accuracy of logistic regression classifier on test set: {:.2f}'.format(logreg.score(X_test, y_test)))"
      ],
      "metadata": {
        "id": "iUWVlHMgb2g8",
        "outputId": "14aaf842-f136-4007-9d9c-ad427463fcee",
        "colab": {
          "base_uri": "https://localhost:8080/"
        }
      },
      "execution_count": null,
      "outputs": [
        {
          "output_type": "stream",
          "name": "stdout",
          "text": [
            "Accuracy of logistic regression classifier on test set: 0.96\n"
          ]
        }
      ]
    },
    {
      "cell_type": "markdown",
      "source": [
        "#Step 8: Making the confusion matrix\n",
        "\n",
        "\n"
      ],
      "metadata": {
        "id": "5LriaSY7b-rk"
      }
    },
    {
      "cell_type": "code",
      "source": [
        "from sklearn.metrics import confusion_matrix\n",
        "confusion_matrix = confusion_matrix(y_test, y_pred)\n",
        "print(confusion_matrix)"
      ],
      "metadata": {
        "id": "Lfg8qrT0b6jC",
        "outputId": "4034d950-3538-4501-f57d-8e0c1e8dbb5c",
        "colab": {
          "base_uri": "https://localhost:8080/"
        }
      },
      "execution_count": null,
      "outputs": [
        {
          "output_type": "stream",
          "name": "stdout",
          "text": [
            "[[40  3]\n",
            " [ 1 70]]\n"
          ]
        }
      ]
    },
    {
      "cell_type": "markdown",
      "source": [
        "#Step 9: Predicting the training set result\n",
        "\n",
        "\n"
      ],
      "metadata": {
        "id": "O5y7HfZBcNWB"
      }
    },
    {
      "cell_type": "code",
      "source": [
        "from sklearn.metrics import classification_report\n",
        "print(classification_report(y_test, y_pred))"
      ],
      "metadata": {
        "id": "JQOq1bdwcEQ-",
        "outputId": "9929059e-4b77-4e53-9a70-f05bf7962c84",
        "colab": {
          "base_uri": "https://localhost:8080/"
        }
      },
      "execution_count": null,
      "outputs": [
        {
          "output_type": "stream",
          "name": "stdout",
          "text": [
            "              precision    recall  f1-score   support\n",
            "\n",
            "           0       0.98      0.93      0.95        43\n",
            "           1       0.96      0.99      0.97        71\n",
            "\n",
            "    accuracy                           0.96       114\n",
            "   macro avg       0.97      0.96      0.96       114\n",
            "weighted avg       0.97      0.96      0.96       114\n",
            "\n"
          ]
        }
      ]
    },
    {
      "cell_type": "markdown",
      "source": [
        "#Step 10: Visualizing the Test set results\n",
        "\n",
        "\n"
      ],
      "metadata": {
        "id": "ggs2TZ_BWPXk"
      }
    },
    {
      "cell_type": "code",
      "source": [
        "# giving a larger plot\n",
        "plt.figure(figsize=(8, 6))\n",
        "\n",
        "plt.scatter(x_pca[:, 0], x_pca[:, 1],\n",
        "            c=cancer['target'],\n",
        "            cmap='plasma')\n",
        "\n",
        "# labeling x and y axes\n",
        "plt.xlabel('First Principal Component')\n",
        "plt.ylabel('Second Principal Component')\n",
        "plt.show()"
      ],
      "metadata": {
        "id": "LoqPn9RCc4bM",
        "outputId": "f31ff971-cf40-4fe4-e372-191eb8a353ba",
        "colab": {
          "base_uri": "https://localhost:8080/",
          "height": 542
        }
      },
      "execution_count": null,
      "outputs": [
        {
          "output_type": "display_data",
          "data": {
            "text/plain": [
              "<Figure size 800x600 with 1 Axes>"
            ],
            "image/png": "[encoded data removed]"
          },
          "metadata": {}
        }
      ]
    },
    {
      "cell_type": "code",
      "source": [
        "# components\n",
        "pca.components_"
      ],
      "metadata": {
        "id": "Av0ZwHLrj1Pr",
        "outputId": "e626f4e5-9267-4261-cb50-528f56332427",
        "colab": {
          "base_uri": "https://localhost:8080/"
        }
      },
      "execution_count": null,
      "outputs": [
        {
          "output_type": "execute_result",
          "data": {
            "text/plain": [
              "array([[ 0.21890244,  0.10372458,  0.22753729,  0.22099499,  0.14258969,\n",
              "         0.23928535,  0.25840048,  0.26085376,  0.13816696,  0.06436335,\n",
              "         0.20597878,  0.01742803,  0.21132592,  0.20286964,  0.01453145,\n",
              "         0.17039345,  0.15358979,  0.1834174 ,  0.04249842,  0.10256832,\n",
              "         0.22799663,  0.10446933,  0.23663968,  0.22487053,  0.12795256,\n",
              "         0.21009588,  0.22876753,  0.25088597,  0.12290456,  0.13178394],\n",
              "       [-0.23385713, -0.05970609, -0.21518136, -0.23107671,  0.18611302,\n",
              "         0.15189161,  0.06016536, -0.0347675 ,  0.19034877,  0.36657547,\n",
              "        -0.10555215,  0.08997968, -0.08945723, -0.15229263,  0.20443045,\n",
              "         0.2327159 ,  0.19720728,  0.13032156,  0.183848  ,  0.28009203,\n",
              "        -0.21986638, -0.0454673 , -0.19987843, -0.21935186,  0.17230435,\n",
              "         0.14359317,  0.09796411, -0.00825724,  0.14188335,  0.27533947]])"
            ]
          },
          "metadata": {},
          "execution_count": 25
        }
      ]
    },
    {
      "cell_type": "markdown",
      "source": [
        "#**Well Done :)**\n",
        "Now let's practice!"
      ],
      "metadata": {
        "id": "eNSPTcFRvHqe"
      }
    }
  ]
}