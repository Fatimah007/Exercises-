{
  "cells": [
    {
      "cell_type": "markdown",
      "metadata": {
        "id": "view-in-github",
        "colab_type": "text"
      },
      "source": [
        "<a href=\"https://colab.research.google.com/github/Fatimah007/Exercises-/blob/main/Copy_of_JSON_exercises_e.ipynb\" target=\"_parent\"><img src=\"https://colab.research.google.com/assets/colab-badge.svg\" alt=\"Open In Colab\"/></a>"
      ]
    },
    {
      "cell_type": "markdown",
      "id": "6b5c524a",
      "metadata": {
        "id": "6b5c524a"
      },
      "source": [
        "# JSON Practice Exercises\n",
        "\n",
        "These exercises will help you practice working with JSON in Python."
      ]
    },
    {
      "cell_type": "code",
      "source": [
        "import json"
      ],
      "metadata": {
        "id": "Ery0F7M1sTjE"
      },
      "id": "Ery0F7M1sTjE",
      "execution_count": null,
      "outputs": []
    },
    {
      "cell_type": "markdown",
      "id": "530fc65c",
      "metadata": {
        "id": "530fc65c"
      },
      "source": [
        "## Exercise 1: Converting Python Objects to JSON\n",
        "\n",
        "Create a Python dictionary representing a book with the following attributes:\n",
        "- title\n",
        "- author\n",
        "- year\n",
        "\n",
        "Convert this dictionary to a JSON string using `json.dumps()` and print the result."
      ]
    },
    {
      "cell_type": "code",
      "execution_count": null,
      "id": "f74a5ed5",
      "metadata": {
        "colab": {
          "base_uri": "https://localhost:8080/"
        },
        "id": "f74a5ed5",
        "outputId": "7bf0d10e-bdf3-4b30-eb47-55ed8a5ff989"
      },
      "outputs": [
        {
          "output_type": "stream",
          "name": "stdout",
          "text": [
            "{\"title\": \"Hope\", \"author\": \"Amandas\", \"year\": 2017}\n"
          ]
        }
      ],
      "source": [
        "# Python dictionary\n",
        "book_dict = {\n",
        "    \"title\": \"Hope\",\n",
        "    \"author\": 'Amandas',\n",
        "    \"year\": 2017\n",
        "}\n",
        "\n",
        "# Convert dictionary to JSON string\n",
        "book_json = json.dumps(book_dict)\n",
        "print(book_json)"
      ]
    },
    {
      "cell_type": "markdown",
      "id": "84799d52",
      "metadata": {
        "id": "84799d52"
      },
      "source": [
        "## Exercise 2: Converting JSON to Python Objects\n",
        "\n",
        "Given the following JSON string:\n",
        "```json\n",
        "'{\"name\": \"Alice\", \"age\": 25, \"city\": \"Wonderland\"}'\n",
        "```\n",
        "Convert this JSON string to a Python dictionary using `json.loads()` and print the result."
      ]
    },
    {
      "cell_type": "code",
      "execution_count": null,
      "id": "a2ba7ced",
      "metadata": {
        "colab": {
          "base_uri": "https://localhost:8080/"
        },
        "id": "a2ba7ced",
        "outputId": "51a23eb4-4eaa-44cb-f57a-e3f68ed554d1"
      },
      "outputs": [
        {
          "output_type": "stream",
          "name": "stdout",
          "text": [
            "{'name': 'Alice', 'age': 25, 'city': 'Wonderland'}\n"
          ]
        }
      ],
      "source": [
        "# JSON string\n",
        "person_json = '{\"name\": \"Alice\", \"age\": 25, \"city\": \"Wonderland\"}'\n",
        "\n",
        "# Convert JSON string to Python dictionary\n",
        "person_dict = json.loads(person_json)\n",
        "print(person_dict)"
      ]
    },
    {
      "cell_type": "markdown",
      "id": "e291d203",
      "metadata": {
        "id": "e291d203"
      },
      "source": [
        "## Exercise 3: Reading JSON from a File\n",
        "\n",
        "Write a Python script to read the following JSON data from a file named `data.json` and print it:\n",
        "```json\n",
        "{\n",
        "    \"name\": \"Bob\",\n",
        "    \"age\": 22,\n",
        "    \"city\": \"Paris\"\n",
        "}\n",
        "```"
      ]
    },
    {
      "cell_type": "code",
      "source": [
        "# JSON string\n",
        "data = '{\"name\": \"Bob\", \"age\": 22, \"city\": \"Paris\"}'\n"
      ],
      "metadata": {
        "id": "ujU5K5JPvLmL"
      },
      "id": "ujU5K5JPvLmL",
      "execution_count": null,
      "outputs": []
    },
    {
      "cell_type": "code",
      "execution_count": null,
      "id": "a5655d4b",
      "metadata": {
        "colab": {
          "base_uri": "https://localhost:8080/"
        },
        "id": "a5655d4b",
        "outputId": "328e8b9b-119b-4b57-fdd0-d1680a6855d8"
      },
      "outputs": [
        {
          "output_type": "stream",
          "name": "stdout",
          "text": [
            "{\"name\": \"Bob\", \"age\": 22, \"city\": \"Paris\"}\n"
          ]
        }
      ],
      "source": [
        " with open('data.json', 'w') as file:\n",
        "    json.dump(data, file)\n",
        "\n",
        " with open('data.json', 'r') as file:\n",
        "   person_dict = json.load(file)\n",
        "   print(person_dict)"
      ]
    },
    {
      "cell_type": "markdown",
      "id": "7b83b8f8",
      "metadata": {
        "id": "7b83b8f8"
      },
      "source": [
        "## Exercise 4: Writing JSON to a File\n",
        "\n",
        "Create a Python dictionary representing a student with the following attributes:\n",
        "- name\n",
        "- grade\n",
        "- subjects (a list of subjects)\n",
        "\n",
        "Write this dictionary to a JSON file named `student.json` using `json.dump()`."
      ]
    },
    {
      "cell_type": "code",
      "execution_count": null,
      "id": "96c1b087",
      "metadata": {
        "colab": {
          "base_uri": "https://localhost:8080/"
        },
        "id": "96c1b087",
        "outputId": "274fbbf3-56fd-48a7-a223-260bd2399cac"
      },
      "outputs": [
        {
          "output_type": "stream",
          "name": "stdout",
          "text": [
            "{'name': 'Nora', 'grade': ['A', 'B', 'C'], 'subjects': ['Math', 'History', 'Science']}\n"
          ]
        }
      ],
      "source": [
        "# Your code here\n",
        "# Python dictionary\n",
        "student_dict = {\n",
        "    \"name\": \"Nora\",\n",
        "    \"grade\": ['A','B','C'],\n",
        "    \"subjects\": [\"Math\",\"History\",'Science']\n",
        "}\n",
        "\n",
        "# Write dictionary to JSON file\n",
        "with open('student.json', 'w') as file:\n",
        "    json.dump(student_dict, file)\n",
        "\n",
        "    # Read dictionary from JSON file\n",
        "with open('student.json', 'r') as file:\n",
        "    student_dict = json.load(file)\n",
        "    print(student_dict)"
      ]
    },
    {
      "cell_type": "markdown",
      "id": "7d9b3849",
      "metadata": {
        "id": "7d9b3849"
      },
      "source": [
        "## Exercise 5: Pretty Printing JSON\n",
        "\n",
        "Given a Python dictionary representing a movie with the following attributes:\n",
        "- title\n",
        "- director\n",
        "- year\n",
        "- genre\n",
        "\n",
        "Convert this dictionary to a JSON string with indentation using `json.dumps()` and print the result."
      ]
    },
    {
      "cell_type": "code",
      "execution_count": null,
      "id": "cfe017d4",
      "metadata": {
        "colab": {
          "base_uri": "https://localhost:8080/"
        },
        "id": "cfe017d4",
        "outputId": "fa7f133a-19c7-4391-b0f2-245fd7190e56"
      },
      "outputs": [
        {
          "output_type": "stream",
          "name": "stdout",
          "text": [
            "{\n",
            "    \"title\": \"Silence\",\n",
            "    \"director\": \"John\",\n",
            "    \"year\": 2019,\n",
            "    \"genre\": \"Action\"\n",
            "}\n"
          ]
        }
      ],
      "source": [
        "# Your code here\n",
        "# Python dictionary\n",
        "movie_dict = {\n",
        "    \"title\": \"Silence\",\n",
        "    \"director\": 'John',\n",
        "    \"year\": 2019,\n",
        "    \"genre\": \"Action\"\n",
        "}\n",
        "\n",
        "# Convert dictionary to JSON string with indentation\n",
        "movie_json = json.dumps(movie_dict, indent=4)\n",
        "print(movie_json)\n"
      ]
    }
  ],
  "metadata": {
    "colab": {
      "provenance": [],
      "include_colab_link": true
    },
    "language_info": {
      "name": "python"
    },
    "kernelspec": {
      "name": "python3",
      "display_name": "Python 3"
    }
  },
  "nbformat": 4,
  "nbformat_minor": 5
}